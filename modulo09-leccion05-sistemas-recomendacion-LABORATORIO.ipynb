{
 "cells": [
  {
   "cell_type": "markdown",
   "metadata": {},
   "source": [
    "\n",
    "<div style=\"text-align: center;\">\n",
    "  <img src=\"https://github.com/Hack-io-Data/Imagenes/blob/main/01-LogosHackio/logo_naranja@4x.png?raw=true\" alt=\"esquema\" />\n",
    "</div>\n",
    "\n",
    "\n",
    "# Laboratorio de Sistemas de Recomendación\n",
    "\n",
    "## Objetivos del Laboratorio\n",
    "\n",
    "1.\tImplementar y comparar diferentes tipos de sistemas de recomendación utilizando datos reales.\n",
    "\n",
    "2.\tExplorar el impacto de las características de los datos en la calidad de las recomendaciones.\n",
    "\n",
    "3.\tDesarrollar habilidades en preprocesamiento, modelado y evaluación de sistemas de recomendación.\n",
    "\n",
    "## Los Datos\n",
    "\n",
    "\n",
    "- **1. games_description.csv**: Este archivo contiene información detallada sobre videojuegos disponibles en una tienda. Las columnas que tenemos son: \n",
    "\n",
    "\n",
    "\t- **`name`**: Nombre del videojuego.\n",
    "\n",
    "\t- **`short_description`**: Breve descripción del videojuego.\n",
    "\n",
    "\t- **`long_description`**: Descripción completa y detallada del videojuego.\n",
    "\n",
    "\t- **`genres`**: Lista de géneros asociados al videojuego (por ejemplo, Acción, RPG).\n",
    "\n",
    "\t- **`minimum_system_requirement`**: Requisitos mínimos para ejecutar el videojuego.\n",
    "\n",
    "\t- **`recommend_system_requirement`**: Requisitos recomendados para ejecutar el videojuego.\n",
    "\n",
    "\t- **`release_date`**: Fecha de lanzamiento del videojuego.\n",
    "\n",
    "\t- **`developer`**: Nombre del desarrollador del videojuego.\n",
    "\n",
    "\t- **`publisher`**: Nombre del publicador del videojuego.\n",
    "\n",
    "\t- **`overall_player_rating`**: Calificación general de los jugadores (categórica).\n",
    "\n",
    "\t- **`number_of_reviews_from_purchased_people`**: Número de reseñas realizadas por personas que compraron el juego.\n",
    "\n",
    "\t- **`number_of_english_reviews`**: Número de reseñas en inglés.\n",
    "\n",
    "\t- **`link`**: Enlace al videojuego en la tienda.\n",
    "\n",
    "\n",
    "- **2. games_ranking.csv**: Este archivo contiene información sobre el ranking de videojuegos basados en diferentes métricas. Las columnsa que tenemos son:\n",
    "\n",
    "\n",
    "\t- **`game_name`**: Nombre del videojuego.\n",
    "\n",
    "\t- **`genre`**: Género principal del videojuego.\n",
    "\n",
    "\t- **`rank_type`**: Tipo de ranking (por ejemplo, ventas, popularidad).\n",
    "\n",
    "\t- **`rank`**: Posición del videojuego en el ranking correspondiente.\n",
    "\n",
    "----\n",
    "\n",
    "- Los datos del archivo `games_description.csv` pueden utilizarse para construir sistemas de recomendación basados en contenido.\n",
    "- Los datos del archivo `games_ranking.csv` son ideales para implementar sistemas basados en popularidad.\n",
    "\n",
    "## Los problemas\n",
    "\n",
    "A lo largo de este laboratorio deberás enfrentarte a distintos casos prácticos:\n",
    "\n"
   ]
  },
  {
   "cell_type": "code",
   "execution_count": 1,
   "metadata": {},
   "outputs": [],
   "source": [
    "# Tratamiento de datos\n",
    "# -----------------------------------------------------------------------\n",
    "import pandas as pd\n",
    "import numpy as np\n",
    "\n",
    "# Para visualización de datos\n",
    "# -----------------------------------------------------------------------\n",
    "import seaborn as sns\n",
    "import matplotlib.pyplot as plt\n",
    "\n",
    "# Para cargar los datos\n",
    "# -----------------------------------------------------------------------\n",
    "import pickle\n",
    "\n",
    "# Para sistemas de recomendacion basados en cotenido\n",
    "# -----------------------------------------------------------------------\n",
    "from sklearn.feature_extraction.text import CountVectorizer # Vectorizacion / tokenizacion \n",
    "from sklearn.metrics.pairwise import cosine_similarity #  Cosine Similarity post Vectorizacion\n",
    "\n",
    "# Importamos nuestras funciones\n",
    "# -----------------------------------------------------------------------\n",
    "from src import soporte_sistemas_recomendacion as sr\n",
    "\n",
    "# Configuración de pandas\n",
    "# -----------------------------------------------------------------------\n",
    "pd.set_option('display.max_columns', None)"
   ]
  },
  {
   "cell_type": "markdown",
   "metadata": {},
   "source": [
    "# **Caso 1: Sistema de Recomendación Basado en Contenido**\n",
    "\n",
    "Debes construir un sistema que recomiende videojuegos similares basándose en su descripción y géneros. Para eso deberás:\n",
    "\n",
    "- Preprocesar las descripciones de los juegos (texto) utilizando técnicas de NLP aprendidas durante la clase.\n",
    "\n",
    "- Extraer y limpiar las etiquetas de género para su uso en el sistema de recomendación.\n",
    "\n",
    "- Implementar una métrica de similitud (como el coseno) para recomendar juegos similares.\n",
    "\n",
    "- Evaluar las recomendaciones generadas para un conjunto de juegos específicos.\n",
    "\n"
   ]
  },
  {
   "cell_type": "code",
   "execution_count": 2,
   "metadata": {},
   "outputs": [
    {
     "data": {
      "text/html": [
       "<div>\n",
       "<style scoped>\n",
       "    .dataframe tbody tr th:only-of-type {\n",
       "        vertical-align: middle;\n",
       "    }\n",
       "\n",
       "    .dataframe tbody tr th {\n",
       "        vertical-align: top;\n",
       "    }\n",
       "\n",
       "    .dataframe thead th {\n",
       "        text-align: right;\n",
       "    }\n",
       "</style>\n",
       "<table border=\"1\" class=\"dataframe\">\n",
       "  <thead>\n",
       "    <tr style=\"text-align: right;\">\n",
       "      <th></th>\n",
       "      <th>name</th>\n",
       "      <th>short_description</th>\n",
       "      <th>long_description</th>\n",
       "      <th>genres</th>\n",
       "      <th>minimum_system_requirement</th>\n",
       "      <th>recommend_system_requirement</th>\n",
       "      <th>release_date</th>\n",
       "      <th>developer</th>\n",
       "      <th>publisher</th>\n",
       "      <th>overall_player_rating</th>\n",
       "      <th>number_of_reviews_from_purchased_people</th>\n",
       "      <th>number_of_english_reviews</th>\n",
       "      <th>link</th>\n",
       "    </tr>\n",
       "  </thead>\n",
       "  <tbody>\n",
       "    <tr>\n",
       "      <th>82</th>\n",
       "      <td>Little Nightmares II</td>\n",
       "      <td>Little Nightmares II is a suspense adventure g...</td>\n",
       "      <td>About This Game\\nA host of brand-new Residents...</td>\n",
       "      <td>['Horror', 'Adventure', 'Singleplayer', 'Puzzl...</td>\n",
       "      <td>['Requires a 64-bit processor and operating sy...</td>\n",
       "      <td>['Requires a 64-bit processor and operating sy...</td>\n",
       "      <td>10 Feb, 2021</td>\n",
       "      <td>['Tarsier Studios']</td>\n",
       "      <td>['BANDAI NAMCO Entertainment']</td>\n",
       "      <td>Very Positive</td>\n",
       "      <td>(31,751)</td>\n",
       "      <td>14,237</td>\n",
       "      <td>https://store.steampowered.com/app/860510/Litt...</td>\n",
       "    </tr>\n",
       "  </tbody>\n",
       "</table>\n",
       "</div>"
      ],
      "text/plain": [
       "                    name                                  short_description  \\\n",
       "82  Little Nightmares II  Little Nightmares II is a suspense adventure g...   \n",
       "\n",
       "                                     long_description  \\\n",
       "82  About This Game\\nA host of brand-new Residents...   \n",
       "\n",
       "                                               genres  \\\n",
       "82  ['Horror', 'Adventure', 'Singleplayer', 'Puzzl...   \n",
       "\n",
       "                           minimum_system_requirement  \\\n",
       "82  ['Requires a 64-bit processor and operating sy...   \n",
       "\n",
       "                         recommend_system_requirement  release_date  \\\n",
       "82  ['Requires a 64-bit processor and operating sy...  10 Feb, 2021   \n",
       "\n",
       "              developer                       publisher overall_player_rating  \\\n",
       "82  ['Tarsier Studios']  ['BANDAI NAMCO Entertainment']         Very Positive   \n",
       "\n",
       "   number_of_reviews_from_purchased_people number_of_english_reviews  \\\n",
       "82                                (31,751)                    14,237   \n",
       "\n",
       "                                                 link  \n",
       "82  https://store.steampowered.com/app/860510/Litt...  "
      ]
     },
     "execution_count": 2,
     "metadata": {},
     "output_type": "execute_result"
    }
   ],
   "source": [
    "df = pd.read_csv(\"datos/games_description.csv\")\n",
    "df.sample()"
   ]
  },
  {
   "cell_type": "code",
   "execution_count": 3,
   "metadata": {},
   "outputs": [
    {
     "data": {
      "text/plain": [
       "name                                        0\n",
       "short_description                          13\n",
       "long_description                            0\n",
       "genres                                      0\n",
       "minimum_system_requirement                  0\n",
       "recommend_system_requirement                0\n",
       "release_date                                0\n",
       "developer                                   0\n",
       "publisher                                   0\n",
       "overall_player_rating                       0\n",
       "number_of_reviews_from_purchased_people     0\n",
       "number_of_english_reviews                   0\n",
       "link                                        0\n",
       "dtype: int64"
      ]
     },
     "execution_count": 3,
     "metadata": {},
     "output_type": "execute_result"
    }
   ],
   "source": [
    "df.isnull().sum()"
   ]
  },
  {
   "cell_type": "code",
   "execution_count": 4,
   "metadata": {},
   "outputs": [
    {
     "data": {
      "text/plain": [
       "name                                       0\n",
       "short_description                          0\n",
       "long_description                           0\n",
       "genres                                     0\n",
       "minimum_system_requirement                 0\n",
       "recommend_system_requirement               0\n",
       "release_date                               0\n",
       "developer                                  0\n",
       "publisher                                  0\n",
       "overall_player_rating                      0\n",
       "number_of_reviews_from_purchased_people    0\n",
       "number_of_english_reviews                  0\n",
       "link                                       0\n",
       "dtype: int64"
      ]
     },
     "execution_count": 4,
     "metadata": {},
     "output_type": "execute_result"
    }
   ],
   "source": [
    "df.dropna(subset=\"short_description\",inplace=True)\n",
    "df.isnull().sum()"
   ]
  },
  {
   "cell_type": "markdown",
   "metadata": {},
   "source": [
    "###  Preprocesar las descripciones de los juegos (texto) utilizando técnicas de NLP aprendidas durante la clase\n",
    "- Voy a usar short_description, ¿porque?\n",
    "- long_description aporta:\n",
    "    - Ruido excesivo: Mucho texto jaja\n",
    "    - Demasiada dimensionalidad: Mucho texto en resumen\n",
    "    - Menor Relevancia al Usuario: Al final del día un usuario no se lee las instrucciones del champú"
   ]
  },
  {
   "cell_type": "markdown",
   "metadata": {},
   "source": [
    "Reduzco el número de columnas del df"
   ]
  },
  {
   "cell_type": "code",
   "execution_count": 5,
   "metadata": {},
   "outputs": [],
   "source": [
    "reduced_df = df[[\"name\",\"short_description\",\"genres\",\"overall_player_rating\",\"number_of_reviews_from_purchased_people\"]]"
   ]
  },
  {
   "cell_type": "code",
   "execution_count": 6,
   "metadata": {},
   "outputs": [],
   "source": [
    "documento = reduced_df[\"short_description\"]\n",
    "vectorize = CountVectorizer()\n",
    "X = vectorize.fit_transform(documento)"
   ]
  },
  {
   "cell_type": "code",
   "execution_count": 7,
   "metadata": {},
   "outputs": [
    {
     "name": "stdout",
     "output_type": "stream",
     "text": [
      "['000' '000th' '10' ... 'тепер' 'частині' 'черга']\n",
      "[[0 0 0 ... 0 0 0]\n",
      " [0 0 0 ... 0 0 0]\n",
      " [0 0 0 ... 0 0 0]\n",
      " ...\n",
      " [0 0 0 ... 0 0 0]\n",
      " [0 0 0 ... 0 0 0]\n",
      " [0 0 0 ... 0 0 0]]\n"
     ]
    }
   ],
   "source": [
    "print(vectorize.get_feature_names_out())\n",
    "print(X.toarray())"
   ]
  },
  {
   "cell_type": "code",
   "execution_count": 8,
   "metadata": {},
   "outputs": [
    {
     "name": "stdout",
     "output_type": "stream",
     "text": [
      "['000' '000th' '10' ... 'тепер' 'частині' 'черга']\n",
      "[0 0 0 ... 0 0 0] -> Black Myth: Wukong is an action RPG rooted in Chinese mythology. You shall set out as the Destined One to venture into the challenges and marvels ahead, to uncover the obscured truth beneath the veil of a glorious legend from the past.\n"
     ]
    }
   ],
   "source": [
    "print(vectorize.get_feature_names_out())\n",
    "for k,v in dict(zip(documento,X.toarray())).items():\n",
    "    print(f\"{v} -> {k}\")\n",
    "    break"
   ]
  },
  {
   "cell_type": "markdown",
   "metadata": {},
   "source": [
    "### Extraer y limpiar las etiquetas de género para su uso en el sistema de recomendación."
   ]
  },
  {
   "cell_type": "markdown",
   "metadata": {},
   "source": [
    "Vamos a extraer los elementos de cada lista y a sacar una lista de géneros únicos"
   ]
  },
  {
   "cell_type": "code",
   "execution_count": 9,
   "metadata": {},
   "outputs": [],
   "source": [
    "dictio_unicos = {}\n",
    "for genre in reduced_df[\"genres\"]:\n",
    "    genre = genre.replace(\"[\",\"\").replace(\"]\",\"\").replace(\"'\",\"\").split(\", \")\n",
    "    for g in genre:\n",
    "        if g.lower() not in dictio_unicos:\n",
    "            dictio_unicos[g.lower()] = 1\n",
    "        else:\n",
    "            dictio_unicos[g.lower()] += 1\n",
    "\n",
    "unique_genres = list(dictio_unicos.keys())"
   ]
  },
  {
   "cell_type": "markdown",
   "metadata": {},
   "source": [
    "### Implementar una métrica de similitud (como el coseno) para recomendar juegos similares."
   ]
  },
  {
   "cell_type": "code",
   "execution_count": 10,
   "metadata": {},
   "outputs": [
    {
     "data": {
      "text/plain": [
       "array([[1.        , 0.44104677, 0.43684888, ..., 0.40406102, 0.43422596,\n",
       "        0.34920635],\n",
       "       [0.44104677, 1.        , 0.31665025, ..., 0.29939248, 0.29301636,\n",
       "        0.24698619],\n",
       "       [0.43684888, 0.31665025, 1.        , ..., 0.40291148, 0.35257807,\n",
       "        0.34188173],\n",
       "       ...,\n",
       "       [0.32575152, 0.30488637, 0.34875922, ..., 0.29095719, 0.26801008,\n",
       "        0.3086067 ],\n",
       "       [0.47974861, 0.40450472, 0.41569898, ..., 0.38602432, 0.37174221,\n",
       "        0.36394722],\n",
       "       [0.09245003, 0.08807354, 0.11062442, ..., 0.02801659, 0.09032446,\n",
       "        0.03962144]])"
      ]
     },
     "execution_count": 10,
     "metadata": {},
     "output_type": "execute_result"
    }
   ],
   "source": [
    "similarity = cosine_similarity(X)\n",
    "similarity[:20]"
   ]
  },
  {
   "cell_type": "markdown",
   "metadata": {},
   "source": [
    "### Evaluar las recomendaciones generadas para un conjunto de juegos específicos."
   ]
  },
  {
   "cell_type": "markdown",
   "metadata": {},
   "source": [
    "Para que todo funcione, debemos renombrar la columna name a title"
   ]
  },
  {
   "cell_type": "code",
   "execution_count": 11,
   "metadata": {},
   "outputs": [],
   "source": [
    "reduced_df = reduced_df.rename(columns={\"name\": \"title\"})"
   ]
  },
  {
   "cell_type": "code",
   "execution_count": 12,
   "metadata": {},
   "outputs": [
    {
     "data": {
      "text/plain": [
       "[(0, np.float64(0.0)),\n",
       " (1, np.float64(0.0422200330920749)),\n",
       " (2, np.float64(0.0))]"
      ]
     },
     "execution_count": 12,
     "metadata": {},
     "output_type": "execute_result"
    }
   ],
   "source": [
    "# definimos el juego\n",
    "juego_usuario = reduced_df[\"title\"].sample().values[0]\n",
    "\n",
    "# buscamos el indice del juego\n",
    "game_index = sr.get_index_from_title(juego_usuario, reduced_df)\n",
    "\n",
    "# sacamos los juegos similares\n",
    "similar_games = list(enumerate(similarity[game_index]))\n",
    "similar_games[:3]"
   ]
  },
  {
   "cell_type": "code",
   "execution_count": 13,
   "metadata": {},
   "outputs": [
    {
     "data": {
      "text/plain": [
       "[(257, np.float64(0.1266600992762247)),\n",
       " (265, np.float64(0.11776030079682895)),\n",
       " (231, np.float64(0.10050378152592121))]"
      ]
     },
     "execution_count": 13,
     "metadata": {},
     "output_type": "execute_result"
    }
   ],
   "source": [
    "# ordenamos los resultados\n",
    "juegos_similares_ordenadas = sorted(similar_games,key=lambda x:x[1],reverse=True)[1:21] # [1:21] si lo cambiamos a [0:21] la tenemos a ella misma \n",
    "juegos_similares_ordenadas[:3]"
   ]
  },
  {
   "cell_type": "code",
   "execution_count": 14,
   "metadata": {},
   "outputs": [],
   "source": [
    "reduced_df.reset_index(inplace=True)"
   ]
  },
  {
   "cell_type": "code",
   "execution_count": 15,
   "metadata": {},
   "outputs": [
    {
     "data": {
      "image/png": "[encoded data removed]",
      "text/plain": [
       "<Figure size 1000x600 with 1 Axes>"
      ]
     },
     "metadata": {},
     "output_type": "display_data"
    }
   ],
   "source": [
    "# y ahora buscamos el título\n",
    "top_similar_games = {}\n",
    "for i in juegos_similares_ordenadas:\n",
    "    top_similar_games[sr.get_title_from_index(i[0], reduced_df)] = i[1]\n",
    "\n",
    "# visualizamos los resultados\n",
    "plt.figure(figsize=(10, 6))\n",
    "sns.set_style(\"whitegrid\")\n",
    "\n",
    "# Crear gráfico de barras\n",
    "sns.barplot(\n",
    "    x=list(top_similar_games.values()), \n",
    "    y=list(top_similar_games.keys()), \n",
    "    hue = list(top_similar_games.keys()),\n",
    "    palette=\"mako\"\n",
    ")\n",
    "\n",
    "# Añadir etiquetas y título\n",
    "plt.title(f\"Top Juegos Similares a {juego_usuario} Basado en Contenido\", fontsize=16, pad=20)\n",
    "plt.xlabel(\"Similitud\", fontsize=12)\n",
    "plt.ylabel(\"Juegos\", fontsize=12)\n",
    "\n",
    "# Añadir valores al final de cada barra\n",
    "for i, value in enumerate(top_similar_games.values()):\n",
    "    plt.text(value + 0.02, i, f\"{value:.2f}\", va='center', fontsize=10)\n",
    "\n",
    "plt.tight_layout()\n"
   ]
  },
  {
   "cell_type": "markdown",
   "metadata": {},
   "source": [
    "# **Caso 2: Sistema de Recomendación Basado en Popularidad**\n",
    "\n",
    "Debes un sistema que recomiende los juegos más populares según su calificación general y número de reseñas. Para eso deberás:\n",
    "\t\n",
    "- Limpiar y convertir las columnas relacionadas con las calificaciones y las reseñas en datos numéricos.\n",
    "\t\n",
    "- Identificar los juegos más populares utilizando métricas como la mediana de calificaciones ponderadas.\n",
    "\t\n",
    "- Crear una tabla de recomendaciones generales para diferentes géneros.\n",
    "\n",
    "\n"
   ]
  },
  {
   "cell_type": "code",
   "execution_count": 17,
   "metadata": {},
   "outputs": [
    {
     "data": {
      "text/html": [
       "<div>\n",
       "<style scoped>\n",
       "    .dataframe tbody tr th:only-of-type {\n",
       "        vertical-align: middle;\n",
       "    }\n",
       "\n",
       "    .dataframe tbody tr th {\n",
       "        vertical-align: top;\n",
       "    }\n",
       "\n",
       "    .dataframe thead th {\n",
       "        text-align: right;\n",
       "    }\n",
       "</style>\n",
       "<table border=\"1\" class=\"dataframe\">\n",
       "  <thead>\n",
       "    <tr style=\"text-align: right;\">\n",
       "      <th></th>\n",
       "      <th>game_name</th>\n",
       "      <th>genre</th>\n",
       "      <th>rank_type</th>\n",
       "      <th>rank</th>\n",
       "    </tr>\n",
       "  </thead>\n",
       "  <tbody>\n",
       "    <tr>\n",
       "      <th>51</th>\n",
       "      <td>Cyberpunk 2077: Phantom Liberty</td>\n",
       "      <td>Action</td>\n",
       "      <td>Revenue</td>\n",
       "      <td>16</td>\n",
       "    </tr>\n",
       "  </tbody>\n",
       "</table>\n",
       "</div>"
      ],
      "text/plain": [
       "                          game_name   genre rank_type  rank\n",
       "51  Cyberpunk 2077: Phantom Liberty  Action   Revenue    16"
      ]
     },
     "execution_count": 17,
     "metadata": {},
     "output_type": "execute_result"
    }
   ],
   "source": [
    "df = pd.read_csv(\"datos/games_ranking.csv\")\n",
    "df.sample()"
   ]
  }
 ],
 "metadata": {
  "kernelspec": {
   "display_name": "Python 3",
   "language": "python",
   "name": "python3"
  },
  "language_info": {
   "codemirror_mode": {
    "name": "ipython",
    "version": 3
   },
   "file_extension": ".py",
   "mimetype": "text/x-python",
   "name": "python",
   "nbconvert_exporter": "python",
   "pygments_lexer": "ipython3",
   "version": "3.11.9"
  }
 },
 "nbformat": 4,
 "nbformat_minor": 2
}
